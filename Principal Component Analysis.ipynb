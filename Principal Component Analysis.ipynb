{
 "cells": [
  {
   "cell_type": "markdown",
   "metadata": {},
   "source": [
    "![tinhatben](tinhatben_svg.png)"
   ]
  },
  {
   "cell_type": "markdown",
   "metadata": {},
   "source": [
    "# Principal Component Analysis\n",
    "\n",
    "This Jupyter notebook has been written to partner with the [Principal components blog post](https://tinhatben.com/2016/04/13/principal-component-analysis/)\n",
    "\n",
    "Copyright (c) 2016, tinhatben\n",
    "All rights reserved.\n",
    "\n",
    "Redistribution and use in source and binary forms, with or without\n",
    "modification, are permitted provided that the following conditions are met:\n",
    "\n",
    "* Redistributions of source code must retain the above copyright notice, this\n",
    "  list of conditions and the following disclaimer.\n",
    "\n",
    "* Redistributions in binary form must reproduce the above copyright notice,\n",
    "  this list of conditions and the following disclaimer in the documentation\n",
    "  and/or other materials provided with the distribution.\n",
    "\n",
    "* Neither the name of tinhatben nor the names of its\n",
    "  contributors may be used to endorse or promote products derived from\n",
    "  this software without specific prior written permission.\n",
    "\n",
    "THIS SOFTWARE IS PROVIDED BY THE COPYRIGHT HOLDERS AND CONTRIBUTORS \"AS IS\"\n",
    "AND ANY EXPRESS OR IMPLIED WARRANTIES, INCLUDING, BUT NOT LIMITED TO, THE\n",
    "IMPLIED WARRANTIES OF MERCHANTABILITY AND FITNESS FOR A PARTICULAR PURPOSE ARE\n",
    "DISCLAIMED. IN NO EVENT SHALL THE COPYRIGHT HOLDER OR CONTRIBUTORS BE LIABLE\n",
    "FOR ANY DIRECT, INDIRECT, INCIDENTAL, SPECIAL, EXEMPLARY, OR CONSEQUENTIAL\n",
    "DAMAGES (INCLUDING, BUT NOT LIMITED TO, PROCUREMENT OF SUBSTITUTE GOODS OR\n",
    "SERVICES; LOSS OF USE, DATA, OR PROFITS; OR BUSINESS INTERRUPTION) HOWEVER\n",
    "CAUSED AND ON ANY THEORY OF LIABILITY, WHETHER IN CONTRACT, STRICT LIABILITY,\n",
    "OR TORT (INCLUDING NEGLIGENCE OR OTHERWISE) ARISING IN ANY WAY OUT OF THE USE\n",
    "OF THIS SOFTWARE, EVEN IF ADVISED OF THE POSSIBILITY OF SUCH DAMAGE."
   ]
  },
  {
   "cell_type": "code",
   "execution_count": 1,
   "metadata": {
    "collapsed": false
   },
   "outputs": [],
   "source": [
    "# imports\n",
    "import numpy as np\n",
    "import matplotlib.pyplot as plt\n",
    "%matplotlib inline"
   ]
  },
  {
   "cell_type": "markdown",
   "metadata": {},
   "source": [
    "-----------------------------------------------------------------------------------------------------------------------\n",
    "-----------------------------------------------------------------------------------------------------------------------\n",
    "# Components of PCA\n",
    "\n",
    "## Mean\n",
    "\n",
    "In this example we will show an implementation of an equation to calculate the mean, as well as using Python and numpy's interal functions.  We recall from the blog post:\n",
    "\n",
    "$$ \\large{\\mu = \\frac{1}{n}\\sum_{k=1}^n x_k }$$\n",
    "\n",
    "The numpy documentation for numpy.mean can be found [here](https://docs.scipy.org/doc/numpy/reference/generated/numpy.mean.html)\n"
   ]
  },
  {
   "cell_type": "code",
   "execution_count": 2,
   "metadata": {
    "collapsed": false
   },
   "outputs": [
    {
     "name": "stdout",
     "output_type": "stream",
     "text": [
      "Very basic data: [1 2 3 4 5]\n",
      "Very basic data 2D:\n",
      " [[ 1  2  3  4  5]\n",
      " [ 6  7  8  9 10]]\n",
      "\n",
      "----Calculating By Hand----\n",
      "\n",
      "The mean of very_basic data is : 3.00\n",
      "The mean of very_basic data - 2D is : 3.00 and 8.00\n",
      "\n",
      "----Calculating Using NumPy----\n",
      "\n",
      "The mean of very_basic data is (calculated using NumPy): 3.00\n"
     ]
    }
   ],
   "source": [
    "# Calculating the mean by hand on some very simple data\n",
    "very_basic_data = np.array([1,2,3,4,5])\n",
    "very_basic_data_2d = np.array([[1,2,3,4,5],[6,7,8,9,10]])\n",
    "\n",
    "print(\"Very basic data: %s\" % very_basic_data.__str__())\n",
    "print(\"Very basic data 2D:\\n %s\\n\" % very_basic_data_2d.__str__())\n",
    "\n",
    "n = very_basic_data.shape[0]\n",
    "n_2d = very_basic_data_2d.shape[1]\n",
    "\n",
    "mu = (np.sum(very_basic_data)) / n\n",
    "\n",
    "mu_2d = (np.sum(very_basic_data_2d, axis=1)) / n_2d\n",
    "\n",
    "print(\"----Calculating By Hand----\")\n",
    "\n",
    "print(\"\\nThe mean of very_basic data is : %0.2f\" % mu )\n",
    "print(\"The mean of very_basic data - 2D is : %0.2f and %0.2f\\n\" % (mu_2d[0], mu_2d[1]) )\n",
    "\n",
    "print(\"----Calculating Using NumPy----\")\n",
    "\n",
    "# Calculating using numpy\n",
    "\n",
    "mu = np.mean(very_basic_data)\n",
    "mu_2d = np.mean(very_basic_data_2d, axis=1)\n",
    "print(\"\\nThe mean of very_basic data is (calculated using NumPy): %0.2f\" % mu )\n"
   ]
  },
  {
   "cell_type": "markdown",
   "metadata": {},
   "source": [
    "# Standard Deviation\n",
    "Recall that he standard deviation is:\n",
    "\n",
    "$$ \\large{\\sigma = \\sqrt{\\frac{\\sum_{k=1}^n (x_k - \\mu)^2}{n - 1}}}$$\n",
    "\n",
    "The numpy documentation to the standard deviation  (numpy.std) can be found [here](https://docs.scipy.org/doc/numpy/reference/generated/numpy.std.html)"
   ]
  },
  {
   "cell_type": "code",
   "execution_count": 3,
   "metadata": {
    "collapsed": false
   },
   "outputs": [
    {
     "name": "stdout",
     "output_type": "stream",
     "text": [
      "\n",
      "----------------------------------------1D Data----------------------------------------\n",
      "The very basic data set with some random noise: [ 5 10 15 20 25]\n",
      "The new mean (mu) = 15.00\n",
      "Variance (sigma^2) = 62.50\n",
      "Standard deviation (sigma) = 7.91\n",
      "Standard deviation using NumPy (sigma)  = 7.91\n",
      "\n",
      "----------------------------------------2D Data----------------------------------------\n",
      "The very basic data set (2D) with some random noise: [[ 4  8 12 16 20]\n",
      " [ 6  7  8  9 10]]\n",
      "The new 2D mean (mu) = 12.00 and 8.00\n",
      "Variance (sigma^2) = 40.00 and 2.50\n",
      "Standard deviation (sigma) = 6.32 and 1.58\n",
      "Standard deviation using NumPy (sigma)  = 6.32 and 1.58\n",
      "\n",
      "\n",
      "**Note: The variance calculated for the 2D data sets, considers each row or array as an independant data set\n"
     ]
    }
   ],
   "source": [
    "# Add some noise to very_basic_data to ensure \n",
    "from random import randint\n",
    "\n",
    "very_basic_data *= randint(1,5)\n",
    "very_basic_data_2d[0,:] *= randint(1,5)\n",
    "very_basic_data_2d[1,:] *= randint(1,5)\n",
    "\n",
    "mu = np.mean(very_basic_data)\n",
    "mu_2d = np.mean(very_basic_data_2d, axis=1)\n",
    "\n",
    "print(\"\\n\" + 10 *\"----\" + \"1D Data\" + 10*\"----\")\n",
    "\n",
    "print(\"The very basic data set with some random noise: %s\" % str(very_basic_data))\n",
    "print(\"The new mean (mu) = %0.2f\" % mu)\n",
    "\n",
    "# Using the very basic data\n",
    "sigma_squared = np.sum((very_basic_data - mu) ** 2) / (n - 1)\n",
    "\n",
    "print(\"Variance (sigma^2) = %0.2f\" % sigma_squared)\n",
    "\n",
    "# Standard deviation\n",
    "\n",
    "sigma = np.sqrt(sigma_squared)\n",
    "\n",
    "print(\"Standard deviation (sigma) = %0.2f\" % sigma)\n",
    "\n",
    "# You can also calculate the standard deviation using numpy\n",
    "sigma = np.std(very_basic_data, ddof = 1) # ddof = 1, is used to ensure the denominator used is n - 1, not n\n",
    "print(\"Standard deviation using NumPy (sigma)  = %0.2f\" % sigma)\n",
    "\n",
    "\n",
    "print(\"\\n\" + 10 *\"----\" + \"2D Data\" + 10*\"----\")\n",
    "\n",
    "print(\"The very basic data set (2D) with some random noise: %s\" % str(very_basic_data_2d))\n",
    "print(\"The new 2D mean (mu) = %0.2f and %0.2f\" % (mu_2d[0], mu_2d[1]))\n",
    "\n",
    "# Using the very basic data\n",
    "\n",
    "sigma_squared_2d = np.zeros(2)\n",
    "sigma_squared_2d[0] = np.sum((very_basic_data_2d[0,:] - mu_2d[0]) ** 2) / (n_2d - 1)\n",
    "sigma_squared_2d[1] = np.sum((very_basic_data_2d[1,:] - mu_2d[1]) ** 2) / (n_2d - 1)\n",
    "\n",
    "print(\"Variance (sigma^2) = %0.2f and %0.2f\" % (sigma_squared_2d[0], sigma_squared_2d[1]))\n",
    "\n",
    "# Standard deviation\n",
    "\n",
    "sigma_2d = np.sqrt(sigma_squared_2d)\n",
    "\n",
    "print(\"Standard deviation (sigma) = %0.2f and %0.2f\" % (sigma_2d[0], sigma_2d[1]))\n",
    "\n",
    "# You can also calculate the standard deviation using numpy\n",
    "sigma_2d = np.std(very_basic_data_2d, ddof = 1, axis=1)\n",
    "\n",
    "print(\"Standard deviation using NumPy (sigma)  = %0.2f and %0.2f\" % (sigma_2d[0], sigma_2d[1]))\n",
    "\n",
    "print(\"\\n\\n**Note: The variance calculated for the 2D data sets, considers each row or array as an independant data set\")"
   ]
  },
  {
   "cell_type": "markdown",
   "metadata": {},
   "source": [
    "# Covariance\n",
    "\n",
    "The covariance of X and Y is defined as:\n",
    "\n",
    "$$\\large{cov(X,Y) = \\frac{\\sum_{k=1}^n(X_k - \\mu_X)(Y_k - \\mu_Y)}{n-1}}$$\n",
    "\n",
    "At this point we will introduce a new fake data set.  This is a set of sample data I <i>made up</i>, the data consists of two columns and 10 rows.  The first column represents the number of coffees consumed and the second column represents pages of a PhD thesis written."
   ]
  },
  {
   "cell_type": "code",
   "execution_count": 4,
   "metadata": {
    "collapsed": false
   },
   "outputs": [
    {
     "data": {
      "text/plain": [
       "<matplotlib.text.Text at 0x7fc6358b8a90>"
      ]
     },
     "execution_count": 4,
     "metadata": {},
     "output_type": "execute_result"
    },
    {
     "data": {
      "image/png": "[encoded data removed]",
      "text/plain": [
       "<matplotlib.figure.Figure at 0x7fc635952c10>"
      ]
     },
     "metadata": {},
     "output_type": "display_data"
    }
   ],
   "source": [
    "# Defining the data\n",
    "coffee_v_thesis = np.array([\n",
    "        [0, 2.94],\n",
    "        [2.3, 5.45],\n",
    "        [1.2, 5.41],\n",
    "        [3.5, 12.10],\n",
    "        [5.1, 20.75],\n",
    "        [5.2, 21.48],\n",
    "        [10, 31.60],\n",
    "        [10.2, 40.84],\n",
    "        [6.2, 15.12],\n",
    "        ])\n",
    "\n",
    "# Visualising the data\n",
    "plt.figure(figsize=(8,8))\n",
    "plt.scatter(x=coffee_v_thesis[:,0], y=coffee_v_thesis[:,1], color=\"#7a7a7a\", s=30)\n",
    "plt.ylabel(\"Pages of thesis written\")\n",
    "plt.xlabel(\"Coffees consumed\")\n",
    "plt.title(\"Coffee vs Thesis\")\n"
   ]
  },
  {
   "cell_type": "markdown",
   "metadata": {},
   "source": [
    "Where P is the number of pages written and C is the number of coffees consumed: computing \n",
    "\n",
    "$$\\large{cov(P, C)}$$\n",
    "\n",
    "The documentation for `numpy.cov` can be found [here](https://docs.scipy.org/doc/numpy/reference/generated/numpy.cov.html)"
   ]
  },
  {
   "cell_type": "code",
   "execution_count": 5,
   "metadata": {
    "collapsed": false
   },
   "outputs": [
    {
     "name": "stdout",
     "output_type": "stream",
     "text": [
      "cov(P,C) = 43.66\n",
      "cov(P,C) (calculated using Numpy = 43.66\n",
      "**Notice the positive covariance, more coffee = more thesis pages!\n"
     ]
    }
   ],
   "source": [
    "\n",
    "C = coffee_v_thesis[:,0] # Select only the first column for coffee\n",
    "P = coffee_v_thesis[:,1] # Second column for pages\n",
    "n = coffee_v_thesis[:,0].shape[0] # Number of elements in the samples\n",
    "\n",
    "mean_C = np.mean(C)\n",
    "mean_P = np.mean(P)\n",
    "\n",
    "cov_P_C = np.sum((C - mean_C) * (P - mean_P)) / (n - 1)\n",
    "\n",
    "print (\"cov(P,C) = %0.2f\" % cov_P_C)\n",
    "\n",
    "# Computing the covariance using numpy\n",
    "# The first row, second element of the matrix corresponds to cov(P, C)\n",
    "cov_P_C = np.cov(coffee_v_thesis[:,0], coffee_v_thesis[:,1])[0][1]  \n",
    "\n",
    "print (\"cov(P,C) (calculated using Numpy = %0.2f\" % cov_P_C)\n",
    "\n",
    "print(\"**Notice the positive covariance, more coffee = more thesis pages!\")\n"
   ]
  },
  {
   "cell_type": "markdown",
   "metadata": {},
   "source": [
    "## Covariance matrix\n",
    "$$\\large{\\overline{cov} =  \\begin{bmatrix}\n",
    "cov(X, X) & cov(X,Y) & cov(X,Z)\\\\ \n",
    "cov(Y, X) & cov(Y, Y) & cov(Y, Z)\\\\ \n",
    "cov(Z, X) & cov(Z, Y) & cov(Z, Z) \n",
    "\\end{bmatrix}}$$\n",
    "\n",
    "Computing the covariance matrix of `coffee_v_thesis`.  Notice the symmetry of the matrix"
   ]
  },
  {
   "cell_type": "code",
   "execution_count": 6,
   "metadata": {
    "collapsed": false
   },
   "outputs": [
    {
     "name": "stdout",
     "output_type": "stream",
     "text": [
      "The covariance matrix of coffee_v_thesis:\n",
      "[[  12.79027778   43.65606944]\n",
      " [  43.65606944  163.47413611]]\n"
     ]
    }
   ],
   "source": [
    "cov_P_C = np.cov(coffee_v_thesis[:,0], coffee_v_thesis[:,1])\n",
    "print(\"The covariance matrix of coffee_v_thesis:\\n%s\" % cov_P_C.__str__())"
   ]
  },
  {
   "cell_type": "markdown",
   "metadata": {},
   "source": [
    "## Eigenvalues and Eigenvectors\n",
    "\n",
    "Calculate the eigenvalues and eigevectors of the covariance matrix `cov_P_C`\n",
    "\n",
    "There are a couple of different ways of calculating the eigenvalues and eigenvectors.  The most straight-forward is to use `numpy.linalg.eig`. The documentation for numpy.linalg.eig can be found [here](https://docs.scipy.org/doc/numpy/reference/generated/numpy.linalg.eig.html#numpy.linalg.eig). "
   ]
  },
  {
   "cell_type": "code",
   "execution_count": 7,
   "metadata": {
    "collapsed": false
   },
   "outputs": [
    {
     "name": "stdout",
     "output_type": "stream",
     "text": [
      "eigenvalues: [   1.05604092  175.20837297]\n",
      "eigenvectors: \n",
      "[[-0.96572297 -0.25957495]\n",
      " [ 0.25957495 -0.96572297]]\n"
     ]
    }
   ],
   "source": [
    "eigenvalues, eigenvectors = np.linalg.eig(cov_P_C)\n",
    "print(\"eigenvalues: %s\" % eigenvalues.__str__())\n",
    "print(\"eigenvectors: \\n%s\" % eigenvectors.__str__())\n"
   ]
  },
  {
   "cell_type": "markdown",
   "metadata": {},
   "source": [
    "Another way of calculating the eigenvalues and eigenvectors is to use the singular value decomposition `numpy.linalg.svd` function within numpy (click [here](https://docs.scipy.org/doc/numpy/reference/generated/numpy.linalg.svd.html) for the documentation).  One convenient difference compared to `numpy.linalg.eig` is that singular value decomposition returnes the eigenvalues in ascending order which is useful to PCA\n",
    "\n",
    "The function `numpy.linalg.svd` takes a matrix `a` and returns two matrices `u` and `v` and an array of scalars `s` such that:\n",
    "\n",
    "`u * np.diag(s) * v = a` \n",
    "$$ a  = U S V^T $$\n",
    "\n",
    "Where `np.diag` computes the diagonal matrix of `s`.  \n",
    "\n",
    "The eigenvalues of the matrix `a` can be calculated as a multiple of `S`.\n",
    "\n",
    "The eigenvectors of the matrix `a` for the eigenvalues, correspond to the rows of `V` of the columns of `U`\n"
   ]
  },
  {
   "cell_type": "code",
   "execution_count": 8,
   "metadata": {
    "collapsed": false
   },
   "outputs": [
    {
     "name": "stdout",
     "output_type": "stream",
     "text": [
      "('Correct transform: ', True)\n",
      "eigenvalues: [ 175.20837297    1.05604092]\n",
      "eigenvectors: \n",
      "[[-0.96572297 -0.25957495]\n",
      " [ 0.25957495 -0.96572297]]\n"
     ]
    }
   ],
   "source": [
    "U, S, V = np.linalg.svd(cov_P_C, full_matrices=False)\n",
    "\n",
    "eigenvalues = S\n",
    "eigevectors = U\n",
    "\n",
    "# You can check the decomposition occurred correctly if the following statement returns True\n",
    "print(\"Correct transform: \", np.allclose(cov_P_C, np.dot(U, np.dot(np.diag(S), V))))\n",
    "\n",
    "print(\"eigenvalues: %s\" % eigenvalues.__str__())\n",
    "print(\"eigenvectors: \\n%s\" % eigenvectors.__str__())"
   ]
  },
  {
   "cell_type": "markdown",
   "metadata": {},
   "source": [
    "-----------------------------------------------------------------------------------------------------------------------\n",
    "-----------------------------------------------------------------------------------------------------------------------\n",
    "# Executing PCA\n",
    "## 1. Subtract the means\n",
    "\n",
    "This ensures that the data is centered around the origin, looking at the graph below you can see the centre at (0,0)"
   ]
  },
  {
   "cell_type": "code",
   "execution_count": 9,
   "metadata": {
    "collapsed": false
   },
   "outputs": [
    {
     "name": "stdout",
     "output_type": "stream",
     "text": [
      "Confirm the data is now centered about the mean: mu_x = -0.00, mu_y = 0.00\n"
     ]
    },
    {
     "data": {
      "text/plain": [
       "<matplotlib.text.Text at 0x7fc63585d910>"
      ]
     },
     "execution_count": 9,
     "metadata": {},
     "output_type": "execute_result"
    },
    {
     "data": {
      "image/png": "[encoded data removed]",
      "text/plain": [
       "<matplotlib.figure.Figure at 0x7fc6356745d0>"
      ]
     },
     "metadata": {},
     "output_type": "display_data"
    }
   ],
   "source": [
    "# Make a copy of the data\n",
    "X = np.copy(coffee_v_thesis)\n",
    "x_mean, y_mean = np.mean(X, axis=0)\n",
    "\n",
    "X[:,0] -= x_mean\n",
    "X[:,1] -= y_mean\n",
    "\n",
    "x_mean, y_mean = np.mean(X, axis=0)\n",
    "\n",
    "# Confirm the data is now centered about the mean i.e. the mean is close to 0\n",
    "print(\"Confirm the data is now centered about the mean: mu_x = %0.2f, mu_y = %0.2f\" % (x_mean, y_mean))\n",
    "\n",
    "# Visualising the data\n",
    "plt.figure(figsize=(8,8))\n",
    "plt.scatter(x=X[:,0], y=X[:,1], color=\"#7a7a7a\", s=30)\n",
    "plt.ylabel(\"Pages of thesis written\")\n",
    "plt.xlabel(\"Coffees consumed\")\n",
    "plt.title(\"Coffee vs Thesis (mean adjusted)\")"
   ]
  },
  {
   "cell_type": "markdown",
   "metadata": {},
   "source": [
    "## 2. Calculate the Covariance Matrix\n",
    "Calculate the covariance using the mean adjusted data"
   ]
  },
  {
   "cell_type": "code",
   "execution_count": 10,
   "metadata": {
    "collapsed": false
   },
   "outputs": [
    {
     "name": "stdout",
     "output_type": "stream",
     "text": [
      "Covariance of mean adjusted data\n",
      "[[  12.79027778   43.65606944]\n",
      " [  43.65606944  163.47413611]]\n"
     ]
    }
   ],
   "source": [
    "cov_P_C = np.cov(X[:,0], X[:,1])\n",
    "print(\"Covariance of mean adjusted data\\n%s\" % cov_P_C.__str__())"
   ]
  },
  {
   "cell_type": "markdown",
   "metadata": {},
   "source": [
    "## 3. Calculate the eigenvalues and eigenvectors\n",
    "Calculate the eigenvalues and eigenvectors of the covariance matrix.  We will use the singular value decomposition `np.linalg.svd` function to ensure the eigenvalue are ordered from largest to smallest"
   ]
  },
  {
   "cell_type": "code",
   "execution_count": 11,
   "metadata": {
    "collapsed": false
   },
   "outputs": [
    {
     "name": "stdout",
     "output_type": "stream",
     "text": [
      "Correct transform: True\n",
      "eigenvalues: [ 175.20837297    1.05604092]\n",
      "eigenvectors: \n",
      "[[-0.96572297 -0.25957495]\n",
      " [ 0.25957495 -0.96572297]]\n"
     ]
    }
   ],
   "source": [
    "U, S, V = np.linalg.svd(cov_P_C, full_matrices=False)\n",
    "\n",
    "eigenvalues = S\n",
    "eigevectors = U\n",
    "\n",
    "# You can check the decomposition occurred correctly if the following statement returns True\n",
    "print(\"Correct transform: %s\" % str(np.allclose(cov_P_C, np.dot(U, np.dot(np.diag(S), V)))))\n",
    "\n",
    "print(\"eigenvalues: %s\" % eigenvalues.__str__())\n",
    "print(\"eigenvectors: \\n%s\" % eigenvectors.__str__())"
   ]
  },
  {
   "cell_type": "markdown",
   "metadata": {},
   "source": [
    "Determine the percentage of the variance represented by each eigenvalue"
   ]
  },
  {
   "cell_type": "code",
   "execution_count": 12,
   "metadata": {
    "collapsed": false
   },
   "outputs": [
    {
     "name": "stdout",
     "output_type": "stream",
     "text": [
      "Total variance V_t = 176.2644\n",
      "Proportion of variance V_prop = [ 0.99400877  0.00599123]\n",
      "Proportion of variance represented by principal component 99.40 %\n"
     ]
    }
   ],
   "source": [
    "# Calculate the total variance\n",
    "V_t = np.sum(eigenvalues)\n",
    "print(\"Total variance V_t = %0.4f\" % V_t)\n",
    "\n",
    "# Determine the proportion\n",
    "V_prop = eigenvalues / V_t\n",
    "print(\"Proportion of variance V_prop = %s\" % V_prop.__str__())\n",
    "\n",
    "# Determine the proportion represented by the principal component\n",
    "print(\"Proportion of variance represented by principal component %0.2f %%\" % (V_prop[0] * 100))"
   ]
  },
  {
   "cell_type": "markdown",
   "metadata": {},
   "source": [
    "We will choose to use eigenvalues an eigenvectors that represent 98% of variance.\n",
    "\n",
    "$$\\large{P \\subset E \\ni\n",
    "P = E[..t]}$$\n",
    "\n",
    "In this example it is only the principal component that provides sufficient variance.  One option for PCA is to select only the principal component as it represents the most variance for any single eigenvalue."
   ]
  },
  {
   "cell_type": "code",
   "execution_count": 13,
   "metadata": {
    "collapsed": false
   },
   "outputs": [
    {
     "name": "stdout",
     "output_type": "stream",
     "text": [
      "Eigenvalue cumulative sum: [ 175.20837297  176.26441389]\n",
      "Cumulative sum  > f_v (0.99) = (array([0, 1]),)\n",
      "Number of selected eigenvalues = 1\n",
      "Selected eignvalues = [ 175.20837297]\n",
      "P = [[-0.96572297 -0.25957495]]\n"
     ]
    }
   ],
   "source": [
    "f_v = 0.99 # Proportion of total variation 98%\n",
    "\n",
    "#Select only the components that account for 98% of the variance\n",
    "cum_sum = np.cumsum(eigenvalues)\n",
    "selected_eigenvalues = np.nonzero(cum_sum > (f_v * V_t))\n",
    "print(\"Eigenvalue cumulative sum: %s\" % cum_sum.__str__())\n",
    "print(\"Cumulative sum  > f_v (%0.2f) = %s\" % (f_v, selected_eigenvalues))\n",
    "\n",
    "# Filter out the negligable components\n",
    "t = filter(lambda x: x!=0, selected_eigenvalues[0])[0]\n",
    "print(\"Number of selected eigenvalues = %d\" % t)\n",
    "print(\"Selected eignvalues = %s\" % str(eigenvalues[0:t]))\n",
    "# Assign the selected eigenvectors to P\n",
    "P = eigenvectors[0:t]\n",
    "print(\"P = %s\" % P.__str__())"
   ]
  },
  {
   "cell_type": "markdown",
   "metadata": {},
   "source": [
    "## 4. Transform the data\n",
    "Now that we have the selected eigenvectors we can transform the mean adjusted data.  \n",
    "\n",
    "$$\\large{x_{transformed} = Px^T}$$\n",
    "\n",
    "The transformed data is no longer in terms of number of coffees consumed and pages written, but rather in terms of the selected vector.  The data lies in this new space and cannot be thought of directly in terms of the original parameters."
   ]
  },
  {
   "cell_type": "code",
   "execution_count": 14,
   "metadata": {
    "collapsed": false
   },
   "outputs": [
    {
     "name": "stdout",
     "output_type": "stream",
     "text": [
      "Transformed data: \n",
      "[[  8.41632937]\n",
      " [  5.54363342]\n",
      " [  6.61631168]\n",
      " [  2.65859245]\n",
      " [ -1.13188761]\n",
      " [ -1.41794962]\n",
      " [ -8.68031834]\n",
      " [-11.27193546]\n",
      " [ -0.7327759 ]]\n"
     ]
    }
   ],
   "source": [
    "data_transformed = P.dot(X.T).transpose()\n",
    "\n",
    "# Return the transformed data\n",
    "print(\"Transformed data: \\n%s\" % data_transformed.__str__())"
   ]
  },
  {
   "cell_type": "markdown",
   "metadata": {},
   "source": [
    "Notice now the data set is one dimensional.  This is because we only selected one of the eigenvectors and the other axes has been \"thrown out\".  In this example there are only two eigenvectors, so by selecting both we would have included all the variance of the data set and not have gained much benefit from completing PCA.  We now have a representation of the original data set that is in terms of the *P*, the mean and is now smaller in size than the original."
   ]
  },
  {
   "cell_type": "markdown",
   "metadata": {},
   "source": [
    "## 5. Recovering the Data\n",
    "Now say we have done some processing on the data and we wish to return it to the original *coffees consumed* vs *pages written space*.  To recover the data we use:\n"
   ]
  },
  {
   "cell_type": "code",
   "execution_count": 15,
   "metadata": {
    "collapsed": false,
    "scrolled": true
   },
   "outputs": [
    {
     "data": {
      "image/png": "[encoded data removed]",
      "text/plain": [
       "<matplotlib.figure.Figure at 0x7fc635688390>"
      ]
     },
     "metadata": {},
     "output_type": "display_data"
    }
   ],
   "source": [
    "data_recovered = np.linalg.pinv(P).dot(data_transformed.T).T\n",
    "\n",
    "x_mean, y_mean = np.mean(coffee_v_thesis, axis=0)\n",
    "\n",
    "# Add the means\n",
    "data_recovered[:,0] += x_mean\n",
    "data_recovered[:,1] += y_mean\n",
    "\n",
    "# Visualising the data\n",
    "plt.figure(figsize=(10,10))\n",
    "original_data_fig = plt.scatter(x=coffee_v_thesis[:,0], y=coffee_v_thesis[:,1], color=\"#7a7a7a\", s=40)\n",
    "recovered_data_fig = plt.scatter(x=data_recovered[:,0], y=data_recovered[:,1], color=\"#ffaf1f\", s=40)\n",
    "plt.ylabel(\"Pages of thesis written\")\n",
    "plt.xlabel(\"Coffees consumed\")\n",
    "plt.title(\"Coffee vs Thesis (mean adjusted)\")\n",
    "plt.legend([original_data_fig, recovered_data_fig], [\"Original Data Set\", \"Recovered Data Set\"])\n",
    "plt.savefig(\"recovered_data.jpg\", dpi=500)"
   ]
  },
  {
   "cell_type": "markdown",
   "metadata": {},
   "source": [
    "Note that we have not completely recreated the data set, as we only selected one of the eigenvalues we have lost some of the information describing the data.  You can see that most of the data lines along a diagonal line, it is this line that is represented by the principal component."
   ]
  },
  {
   "cell_type": "code",
   "execution_count": 16,
   "metadata": {
    "collapsed": true
   },
   "outputs": [],
   "source": [
    "#End of notebook"
   ]
  }
 ],
 "metadata": {
  "kernelspec": {
   "display_name": "Python 2",
   "language": "python",
   "name": "python2"
  },
  "language_info": {
   "codemirror_mode": {
    "name": "ipython",
    "version": 2
   },
   "file_extension": ".py",
   "mimetype": "text/x-python",
   "name": "python",
   "nbconvert_exporter": "python",
   "pygments_lexer": "ipython2",
   "version": "2.7.6"
  }
 },
 "nbformat": 4,
 "nbformat_minor": 0
}
